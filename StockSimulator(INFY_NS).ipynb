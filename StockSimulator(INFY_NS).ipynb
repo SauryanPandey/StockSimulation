{
  "nbformat": 4,
  "nbformat_minor": 0,
  "metadata": {
    "colab": {
      "provenance": [],
      "authorship_tag": "ABX9TyOJXsfbm8UInEnDkH350un6",
      "include_colab_link": true
    },
    "kernelspec": {
      "name": "python3",
      "display_name": "Python 3"
    },
    "language_info": {
      "name": "python"
    }
  },
  "cells": [
    {
      "cell_type": "markdown",
      "metadata": {
        "id": "view-in-github",
        "colab_type": "text"
      },
      "source": [
        "<a href=\"https://colab.research.google.com/github/SauryanPandey/StockSimulation/blob/main/StockSimulator(INFY_NS).ipynb\" target=\"_parent\"><img src=\"https://colab.research.google.com/assets/colab-badge.svg\" alt=\"Open In Colab\"/></a>"
      ]
    },
    {
      "cell_type": "code",
      "execution_count": 1,
      "metadata": {
        "colab": {
          "base_uri": "https://localhost:8080/"
        },
        "id": "TcbYtUR8eVOp",
        "outputId": "c8a07940-fd68-470d-b0a4-af9e8d75ba3d"
      },
      "outputs": [
        {
          "output_type": "stream",
          "name": "stdout",
          "text": [
            "Looking in indexes: https://pypi.org/simple, https://us-python.pkg.dev/colab-wheels/public/simple/\n",
            "Collecting yfinance\n",
            "  Downloading yfinance-0.2.4-py2.py3-none-any.whl (51 kB)\n",
            "\u001b[2K     \u001b[90m━━━━━━━━━━━━━━━━━━━━━━━━━━━━━━━━━━━━━━━━\u001b[0m \u001b[32m51.4/51.4 KB\u001b[0m \u001b[31m1.6 MB/s\u001b[0m eta \u001b[36m0:00:00\u001b[0m\n",
            "\u001b[?25hRequirement already satisfied: appdirs>=1.4.4 in /usr/local/lib/python3.8/dist-packages (from yfinance) (1.4.4)\n",
            "Collecting beautifulsoup4>=4.11.1\n",
            "  Downloading beautifulsoup4-4.11.1-py3-none-any.whl (128 kB)\n",
            "\u001b[2K     \u001b[90m━━━━━━━━━━━━━━━━━━━━━━━━━━━━━━━━━━━━━━━\u001b[0m \u001b[32m128.2/128.2 KB\u001b[0m \u001b[31m7.2 MB/s\u001b[0m eta \u001b[36m0:00:00\u001b[0m\n",
            "\u001b[?25hRequirement already satisfied: lxml>=4.9.1 in /usr/local/lib/python3.8/dist-packages (from yfinance) (4.9.2)\n",
            "Requirement already satisfied: multitasking>=0.0.7 in /usr/local/lib/python3.8/dist-packages (from yfinance) (0.0.11)\n",
            "Collecting frozendict>=2.3.4\n",
            "  Downloading frozendict-2.3.4-cp38-cp38-manylinux_2_17_x86_64.manylinux2014_x86_64.whl (110 kB)\n",
            "\u001b[2K     \u001b[90m━━━━━━━━━━━━━━━━━━━━━━━━━━━━━━━━━━━━━━━\u001b[0m \u001b[32m111.0/111.0 KB\u001b[0m \u001b[31m4.5 MB/s\u001b[0m eta \u001b[36m0:00:00\u001b[0m\n",
            "\u001b[?25hCollecting requests>=2.26\n",
            "  Downloading requests-2.28.2-py3-none-any.whl (62 kB)\n",
            "\u001b[2K     \u001b[90m━━━━━━━━━━━━━━━━━━━━━━━━━━━━━━━━━━━━━━━━\u001b[0m \u001b[32m62.8/62.8 KB\u001b[0m \u001b[31m5.4 MB/s\u001b[0m eta \u001b[36m0:00:00\u001b[0m\n",
            "\u001b[?25hRequirement already satisfied: pandas>=1.3.0 in /usr/local/lib/python3.8/dist-packages (from yfinance) (1.3.5)\n",
            "Collecting cryptography>=3.3.2\n",
            "  Downloading cryptography-39.0.0-cp36-abi3-manylinux_2_24_x86_64.whl (4.1 MB)\n",
            "\u001b[2K     \u001b[90m━━━━━━━━━━━━━━━━━━━━━━━━━━━━━━━━━━━━━━━━\u001b[0m \u001b[32m4.1/4.1 MB\u001b[0m \u001b[31m38.4 MB/s\u001b[0m eta \u001b[36m0:00:00\u001b[0m\n",
            "\u001b[?25hRequirement already satisfied: pytz>=2022.5 in /usr/local/lib/python3.8/dist-packages (from yfinance) (2022.7)\n",
            "Collecting html5lib>=1.1\n",
            "  Downloading html5lib-1.1-py2.py3-none-any.whl (112 kB)\n",
            "\u001b[2K     \u001b[90m━━━━━━━━━━━━━━━━━━━━━━━━━━━━━━━━━━━━━━━\u001b[0m \u001b[32m112.2/112.2 KB\u001b[0m \u001b[31m7.8 MB/s\u001b[0m eta \u001b[36m0:00:00\u001b[0m\n",
            "\u001b[?25hRequirement already satisfied: numpy>=1.16.5 in /usr/local/lib/python3.8/dist-packages (from yfinance) (1.21.6)\n",
            "Collecting soupsieve>1.2\n",
            "  Downloading soupsieve-2.3.2.post1-py3-none-any.whl (37 kB)\n",
            "Requirement already satisfied: cffi>=1.12 in /usr/local/lib/python3.8/dist-packages (from cryptography>=3.3.2->yfinance) (1.15.1)\n",
            "Requirement already satisfied: six>=1.9 in /usr/local/lib/python3.8/dist-packages (from html5lib>=1.1->yfinance) (1.15.0)\n",
            "Requirement already satisfied: webencodings in /usr/local/lib/python3.8/dist-packages (from html5lib>=1.1->yfinance) (0.5.1)\n",
            "Requirement already satisfied: python-dateutil>=2.7.3 in /usr/local/lib/python3.8/dist-packages (from pandas>=1.3.0->yfinance) (2.8.2)\n",
            "Requirement already satisfied: charset-normalizer<4,>=2 in /usr/local/lib/python3.8/dist-packages (from requests>=2.26->yfinance) (2.1.1)\n",
            "Requirement already satisfied: idna<4,>=2.5 in /usr/local/lib/python3.8/dist-packages (from requests>=2.26->yfinance) (2.10)\n",
            "Requirement already satisfied: certifi>=2017.4.17 in /usr/local/lib/python3.8/dist-packages (from requests>=2.26->yfinance) (2022.12.7)\n",
            "Requirement already satisfied: urllib3<1.27,>=1.21.1 in /usr/local/lib/python3.8/dist-packages (from requests>=2.26->yfinance) (1.24.3)\n",
            "Requirement already satisfied: pycparser in /usr/local/lib/python3.8/dist-packages (from cffi>=1.12->cryptography>=3.3.2->yfinance) (2.21)\n",
            "Installing collected packages: soupsieve, requests, html5lib, frozendict, cryptography, beautifulsoup4, yfinance\n",
            "  Attempting uninstall: requests\n",
            "    Found existing installation: requests 2.25.1\n",
            "    Uninstalling requests-2.25.1:\n",
            "      Successfully uninstalled requests-2.25.1\n",
            "  Attempting uninstall: html5lib\n",
            "    Found existing installation: html5lib 1.0.1\n",
            "    Uninstalling html5lib-1.0.1:\n",
            "      Successfully uninstalled html5lib-1.0.1\n",
            "  Attempting uninstall: beautifulsoup4\n",
            "    Found existing installation: beautifulsoup4 4.6.3\n",
            "    Uninstalling beautifulsoup4-4.6.3:\n",
            "      Successfully uninstalled beautifulsoup4-4.6.3\n",
            "Successfully installed beautifulsoup4-4.11.1 cryptography-39.0.0 frozendict-2.3.4 html5lib-1.1 requests-2.28.2 soupsieve-2.3.2.post1 yfinance-0.2.4\n"
          ]
        }
      ],
      "source": [
        "!pip install yfinance;"
      ]
    },
    {
      "cell_type": "code",
      "source": [
        "import yfinance as yf\n",
        "import pandas as pd\n",
        "import numpy as np"
      ],
      "metadata": {
        "id": "854jeaNqZcxV"
      },
      "execution_count": 2,
      "outputs": []
    },
    {
      "cell_type": "code",
      "source": [
        "infy = yf.Ticker('INFY.NS')\n",
        "infy"
      ],
      "metadata": {
        "colab": {
          "base_uri": "https://localhost:8080/"
        },
        "id": "ZgkD-k-ZaCJP",
        "outputId": "7fe0320e-5126-4655-b334-df3dac56b533"
      },
      "execution_count": 3,
      "outputs": [
        {
          "output_type": "execute_result",
          "data": {
            "text/plain": [
              "yfinance.Ticker object <INFY.NS>"
            ]
          },
          "metadata": {},
          "execution_count": 3
        }
      ]
    },
    {
      "cell_type": "code",
      "source": [
        "infy_data = infy.history()\n",
        "infy_data"
      ],
      "metadata": {
        "colab": {
          "base_uri": "https://localhost:8080/",
          "height": 770
        },
        "id": "cZbL3n04aepe",
        "outputId": "33a88edf-af65-4e9d-b03a-7b4283c09b8a"
      },
      "execution_count": 4,
      "outputs": [
        {
          "output_type": "execute_result",
          "data": {
            "text/plain": [
              "                                  Open         High          Low        Close  \\\n",
              "Date                                                                            \n",
              "2022-12-19 00:00:00+05:30  1507.949951  1516.900024  1495.050049  1507.349976   \n",
              "2022-12-20 00:00:00+05:30  1501.000000  1516.000000  1482.449951  1507.300049   \n",
              "2022-12-21 00:00:00+05:30  1515.000000  1521.000000  1502.349976  1509.550049   \n",
              "2022-12-22 00:00:00+05:30  1521.500000  1529.949951  1511.750000  1522.050049   \n",
              "2022-12-23 00:00:00+05:30  1508.699951  1509.900024  1493.000000  1497.099976   \n",
              "2022-12-26 00:00:00+05:30  1500.500000  1509.900024  1496.349976  1502.400024   \n",
              "2022-12-27 00:00:00+05:30  1509.949951  1521.449951  1497.500000  1514.849976   \n",
              "2022-12-28 00:00:00+05:30  1505.099976  1524.949951  1498.500000  1510.150024   \n",
              "2022-12-29 00:00:00+05:30  1504.000000  1521.300049  1501.000000  1517.550049   \n",
              "2022-12-30 00:00:00+05:30  1528.000000  1530.400024  1504.050049  1508.199951   \n",
              "2023-01-02 00:00:00+05:30  1514.000000  1526.500000  1504.050049  1524.000000   \n",
              "2023-01-03 00:00:00+05:30  1519.849976  1532.650024  1515.099976  1522.550049   \n",
              "2023-01-04 00:00:00+05:30  1521.000000  1521.000000  1491.099976  1494.800049   \n",
              "2023-01-05 00:00:00+05:30  1505.900024  1505.900024  1469.250000  1475.199951   \n",
              "2023-01-06 00:00:00+05:30  1470.000000  1475.000000  1446.500000  1448.500000   \n",
              "2023-01-09 00:00:00+05:30  1448.199951  1489.349976  1448.199951  1484.449951   \n",
              "2023-01-10 00:00:00+05:30  1482.000000  1483.900024  1454.050049  1469.750000   \n",
              "2023-01-11 00:00:00+05:30  1470.000000  1494.000000  1464.000000  1471.250000   \n",
              "2023-01-12 00:00:00+05:30  1481.949951  1485.000000  1455.000000  1480.599976   \n",
              "2023-01-13 00:00:00+05:30  1483.500000  1519.400024  1468.000000  1503.650024   \n",
              "2023-01-16 00:00:00+05:30  1510.000000  1528.000000  1502.300049  1525.500000   \n",
              "2023-01-17 00:00:00+05:30  1527.000000  1542.199951  1524.000000  1539.500000   \n",
              "\n",
              "                             Volume  Dividends  Stock Splits  \n",
              "Date                                                          \n",
              "2022-12-19 00:00:00+05:30   6222740        0.0           0.0  \n",
              "2022-12-20 00:00:00+05:30   7396259        0.0           0.0  \n",
              "2022-12-21 00:00:00+05:30   6236361        0.0           0.0  \n",
              "2022-12-22 00:00:00+05:30   6302640        0.0           0.0  \n",
              "2022-12-23 00:00:00+05:30   6283822        0.0           0.0  \n",
              "2022-12-26 00:00:00+05:30   4115459        0.0           0.0  \n",
              "2022-12-27 00:00:00+05:30   4860076        0.0           0.0  \n",
              "2022-12-28 00:00:00+05:30   5029860        0.0           0.0  \n",
              "2022-12-29 00:00:00+05:30   4624745        0.0           0.0  \n",
              "2022-12-30 00:00:00+05:30   5060544        0.0           0.0  \n",
              "2023-01-02 00:00:00+05:30   3801140        0.0           0.0  \n",
              "2023-01-03 00:00:00+05:30   4551130        0.0           0.0  \n",
              "2023-01-04 00:00:00+05:30   7059590        0.0           0.0  \n",
              "2023-01-05 00:00:00+05:30   9868404        0.0           0.0  \n",
              "2023-01-06 00:00:00+05:30   6443714        0.0           0.0  \n",
              "2023-01-09 00:00:00+05:30  11498717        0.0           0.0  \n",
              "2023-01-10 00:00:00+05:30   7158624        0.0           0.0  \n",
              "2023-01-11 00:00:00+05:30   6173092        0.0           0.0  \n",
              "2023-01-12 00:00:00+05:30   6591385        0.0           0.0  \n",
              "2023-01-13 00:00:00+05:30  11610426        0.0           0.0  \n",
              "2023-01-16 00:00:00+05:30   6073063        0.0           0.0  \n",
              "2023-01-17 00:00:00+05:30   5922216        0.0           0.0  "
            ],
            "text/html": [
              "\n",
              "  <div id=\"df-dff343c9-ae0b-4654-8b39-f2f8049b3e1a\">\n",
              "    <div class=\"colab-df-container\">\n",
              "      <div>\n",
              "<style scoped>\n",
              "    .dataframe tbody tr th:only-of-type {\n",
              "        vertical-align: middle;\n",
              "    }\n",
              "\n",
              "    .dataframe tbody tr th {\n",
              "        vertical-align: top;\n",
              "    }\n",
              "\n",
              "    .dataframe thead th {\n",
              "        text-align: right;\n",
              "    }\n",
              "</style>\n",
              "<table border=\"1\" class=\"dataframe\">\n",
              "  <thead>\n",
              "    <tr style=\"text-align: right;\">\n",
              "      <th></th>\n",
              "      <th>Open</th>\n",
              "      <th>High</th>\n",
              "      <th>Low</th>\n",
              "      <th>Close</th>\n",
              "      <th>Volume</th>\n",
              "      <th>Dividends</th>\n",
              "      <th>Stock Splits</th>\n",
              "    </tr>\n",
              "    <tr>\n",
              "      <th>Date</th>\n",
              "      <th></th>\n",
              "      <th></th>\n",
              "      <th></th>\n",
              "      <th></th>\n",
              "      <th></th>\n",
              "      <th></th>\n",
              "      <th></th>\n",
              "    </tr>\n",
              "  </thead>\n",
              "  <tbody>\n",
              "    <tr>\n",
              "      <th>2022-12-19 00:00:00+05:30</th>\n",
              "      <td>1507.949951</td>\n",
              "      <td>1516.900024</td>\n",
              "      <td>1495.050049</td>\n",
              "      <td>1507.349976</td>\n",
              "      <td>6222740</td>\n",
              "      <td>0.0</td>\n",
              "      <td>0.0</td>\n",
              "    </tr>\n",
              "    <tr>\n",
              "      <th>2022-12-20 00:00:00+05:30</th>\n",
              "      <td>1501.000000</td>\n",
              "      <td>1516.000000</td>\n",
              "      <td>1482.449951</td>\n",
              "      <td>1507.300049</td>\n",
              "      <td>7396259</td>\n",
              "      <td>0.0</td>\n",
              "      <td>0.0</td>\n",
              "    </tr>\n",
              "    <tr>\n",
              "      <th>2022-12-21 00:00:00+05:30</th>\n",
              "      <td>1515.000000</td>\n",
              "      <td>1521.000000</td>\n",
              "      <td>1502.349976</td>\n",
              "      <td>1509.550049</td>\n",
              "      <td>6236361</td>\n",
              "      <td>0.0</td>\n",
              "      <td>0.0</td>\n",
              "    </tr>\n",
              "    <tr>\n",
              "      <th>2022-12-22 00:00:00+05:30</th>\n",
              "      <td>1521.500000</td>\n",
              "      <td>1529.949951</td>\n",
              "      <td>1511.750000</td>\n",
              "      <td>1522.050049</td>\n",
              "      <td>6302640</td>\n",
              "      <td>0.0</td>\n",
              "      <td>0.0</td>\n",
              "    </tr>\n",
              "    <tr>\n",
              "      <th>2022-12-23 00:00:00+05:30</th>\n",
              "      <td>1508.699951</td>\n",
              "      <td>1509.900024</td>\n",
              "      <td>1493.000000</td>\n",
              "      <td>1497.099976</td>\n",
              "      <td>6283822</td>\n",
              "      <td>0.0</td>\n",
              "      <td>0.0</td>\n",
              "    </tr>\n",
              "    <tr>\n",
              "      <th>2022-12-26 00:00:00+05:30</th>\n",
              "      <td>1500.500000</td>\n",
              "      <td>1509.900024</td>\n",
              "      <td>1496.349976</td>\n",
              "      <td>1502.400024</td>\n",
              "      <td>4115459</td>\n",
              "      <td>0.0</td>\n",
              "      <td>0.0</td>\n",
              "    </tr>\n",
              "    <tr>\n",
              "      <th>2022-12-27 00:00:00+05:30</th>\n",
              "      <td>1509.949951</td>\n",
              "      <td>1521.449951</td>\n",
              "      <td>1497.500000</td>\n",
              "      <td>1514.849976</td>\n",
              "      <td>4860076</td>\n",
              "      <td>0.0</td>\n",
              "      <td>0.0</td>\n",
              "    </tr>\n",
              "    <tr>\n",
              "      <th>2022-12-28 00:00:00+05:30</th>\n",
              "      <td>1505.099976</td>\n",
              "      <td>1524.949951</td>\n",
              "      <td>1498.500000</td>\n",
              "      <td>1510.150024</td>\n",
              "      <td>5029860</td>\n",
              "      <td>0.0</td>\n",
              "      <td>0.0</td>\n",
              "    </tr>\n",
              "    <tr>\n",
              "      <th>2022-12-29 00:00:00+05:30</th>\n",
              "      <td>1504.000000</td>\n",
              "      <td>1521.300049</td>\n",
              "      <td>1501.000000</td>\n",
              "      <td>1517.550049</td>\n",
              "      <td>4624745</td>\n",
              "      <td>0.0</td>\n",
              "      <td>0.0</td>\n",
              "    </tr>\n",
              "    <tr>\n",
              "      <th>2022-12-30 00:00:00+05:30</th>\n",
              "      <td>1528.000000</td>\n",
              "      <td>1530.400024</td>\n",
              "      <td>1504.050049</td>\n",
              "      <td>1508.199951</td>\n",
              "      <td>5060544</td>\n",
              "      <td>0.0</td>\n",
              "      <td>0.0</td>\n",
              "    </tr>\n",
              "    <tr>\n",
              "      <th>2023-01-02 00:00:00+05:30</th>\n",
              "      <td>1514.000000</td>\n",
              "      <td>1526.500000</td>\n",
              "      <td>1504.050049</td>\n",
              "      <td>1524.000000</td>\n",
              "      <td>3801140</td>\n",
              "      <td>0.0</td>\n",
              "      <td>0.0</td>\n",
              "    </tr>\n",
              "    <tr>\n",
              "      <th>2023-01-03 00:00:00+05:30</th>\n",
              "      <td>1519.849976</td>\n",
              "      <td>1532.650024</td>\n",
              "      <td>1515.099976</td>\n",
              "      <td>1522.550049</td>\n",
              "      <td>4551130</td>\n",
              "      <td>0.0</td>\n",
              "      <td>0.0</td>\n",
              "    </tr>\n",
              "    <tr>\n",
              "      <th>2023-01-04 00:00:00+05:30</th>\n",
              "      <td>1521.000000</td>\n",
              "      <td>1521.000000</td>\n",
              "      <td>1491.099976</td>\n",
              "      <td>1494.800049</td>\n",
              "      <td>7059590</td>\n",
              "      <td>0.0</td>\n",
              "      <td>0.0</td>\n",
              "    </tr>\n",
              "    <tr>\n",
              "      <th>2023-01-05 00:00:00+05:30</th>\n",
              "      <td>1505.900024</td>\n",
              "      <td>1505.900024</td>\n",
              "      <td>1469.250000</td>\n",
              "      <td>1475.199951</td>\n",
              "      <td>9868404</td>\n",
              "      <td>0.0</td>\n",
              "      <td>0.0</td>\n",
              "    </tr>\n",
              "    <tr>\n",
              "      <th>2023-01-06 00:00:00+05:30</th>\n",
              "      <td>1470.000000</td>\n",
              "      <td>1475.000000</td>\n",
              "      <td>1446.500000</td>\n",
              "      <td>1448.500000</td>\n",
              "      <td>6443714</td>\n",
              "      <td>0.0</td>\n",
              "      <td>0.0</td>\n",
              "    </tr>\n",
              "    <tr>\n",
              "      <th>2023-01-09 00:00:00+05:30</th>\n",
              "      <td>1448.199951</td>\n",
              "      <td>1489.349976</td>\n",
              "      <td>1448.199951</td>\n",
              "      <td>1484.449951</td>\n",
              "      <td>11498717</td>\n",
              "      <td>0.0</td>\n",
              "      <td>0.0</td>\n",
              "    </tr>\n",
              "    <tr>\n",
              "      <th>2023-01-10 00:00:00+05:30</th>\n",
              "      <td>1482.000000</td>\n",
              "      <td>1483.900024</td>\n",
              "      <td>1454.050049</td>\n",
              "      <td>1469.750000</td>\n",
              "      <td>7158624</td>\n",
              "      <td>0.0</td>\n",
              "      <td>0.0</td>\n",
              "    </tr>\n",
              "    <tr>\n",
              "      <th>2023-01-11 00:00:00+05:30</th>\n",
              "      <td>1470.000000</td>\n",
              "      <td>1494.000000</td>\n",
              "      <td>1464.000000</td>\n",
              "      <td>1471.250000</td>\n",
              "      <td>6173092</td>\n",
              "      <td>0.0</td>\n",
              "      <td>0.0</td>\n",
              "    </tr>\n",
              "    <tr>\n",
              "      <th>2023-01-12 00:00:00+05:30</th>\n",
              "      <td>1481.949951</td>\n",
              "      <td>1485.000000</td>\n",
              "      <td>1455.000000</td>\n",
              "      <td>1480.599976</td>\n",
              "      <td>6591385</td>\n",
              "      <td>0.0</td>\n",
              "      <td>0.0</td>\n",
              "    </tr>\n",
              "    <tr>\n",
              "      <th>2023-01-13 00:00:00+05:30</th>\n",
              "      <td>1483.500000</td>\n",
              "      <td>1519.400024</td>\n",
              "      <td>1468.000000</td>\n",
              "      <td>1503.650024</td>\n",
              "      <td>11610426</td>\n",
              "      <td>0.0</td>\n",
              "      <td>0.0</td>\n",
              "    </tr>\n",
              "    <tr>\n",
              "      <th>2023-01-16 00:00:00+05:30</th>\n",
              "      <td>1510.000000</td>\n",
              "      <td>1528.000000</td>\n",
              "      <td>1502.300049</td>\n",
              "      <td>1525.500000</td>\n",
              "      <td>6073063</td>\n",
              "      <td>0.0</td>\n",
              "      <td>0.0</td>\n",
              "    </tr>\n",
              "    <tr>\n",
              "      <th>2023-01-17 00:00:00+05:30</th>\n",
              "      <td>1527.000000</td>\n",
              "      <td>1542.199951</td>\n",
              "      <td>1524.000000</td>\n",
              "      <td>1539.500000</td>\n",
              "      <td>5922216</td>\n",
              "      <td>0.0</td>\n",
              "      <td>0.0</td>\n",
              "    </tr>\n",
              "  </tbody>\n",
              "</table>\n",
              "</div>\n",
              "      <button class=\"colab-df-convert\" onclick=\"convertToInteractive('df-dff343c9-ae0b-4654-8b39-f2f8049b3e1a')\"\n",
              "              title=\"Convert this dataframe to an interactive table.\"\n",
              "              style=\"display:none;\">\n",
              "        \n",
              "  <svg xmlns=\"http://www.w3.org/2000/svg\" height=\"24px\"viewBox=\"0 0 24 24\"\n",
              "       width=\"24px\">\n",
              "    <path d=\"M0 0h24v24H0V0z\" fill=\"none\"/>\n",
              "    <path d=\"M18.56 5.44l.94 2.06.94-2.06 2.06-.94-2.06-.94-.94-2.06-.94 2.06-2.06.94zm-11 1L8.5 8.5l.94-2.06 2.06-.94-2.06-.94L8.5 2.5l-.94 2.06-2.06.94zm10 10l.94 2.06.94-2.06 2.06-.94-2.06-.94-.94-2.06-.94 2.06-2.06.94z\"/><path d=\"M17.41 7.96l-1.37-1.37c-.4-.4-.92-.59-1.43-.59-.52 0-1.04.2-1.43.59L10.3 9.45l-7.72 7.72c-.78.78-.78 2.05 0 2.83L4 21.41c.39.39.9.59 1.41.59.51 0 1.02-.2 1.41-.59l7.78-7.78 2.81-2.81c.8-.78.8-2.07 0-2.86zM5.41 20L4 18.59l7.72-7.72 1.47 1.35L5.41 20z\"/>\n",
              "  </svg>\n",
              "      </button>\n",
              "      \n",
              "  <style>\n",
              "    .colab-df-container {\n",
              "      display:flex;\n",
              "      flex-wrap:wrap;\n",
              "      gap: 12px;\n",
              "    }\n",
              "\n",
              "    .colab-df-convert {\n",
              "      background-color: #E8F0FE;\n",
              "      border: none;\n",
              "      border-radius: 50%;\n",
              "      cursor: pointer;\n",
              "      display: none;\n",
              "      fill: #1967D2;\n",
              "      height: 32px;\n",
              "      padding: 0 0 0 0;\n",
              "      width: 32px;\n",
              "    }\n",
              "\n",
              "    .colab-df-convert:hover {\n",
              "      background-color: #E2EBFA;\n",
              "      box-shadow: 0px 1px 2px rgba(60, 64, 67, 0.3), 0px 1px 3px 1px rgba(60, 64, 67, 0.15);\n",
              "      fill: #174EA6;\n",
              "    }\n",
              "\n",
              "    [theme=dark] .colab-df-convert {\n",
              "      background-color: #3B4455;\n",
              "      fill: #D2E3FC;\n",
              "    }\n",
              "\n",
              "    [theme=dark] .colab-df-convert:hover {\n",
              "      background-color: #434B5C;\n",
              "      box-shadow: 0px 1px 3px 1px rgba(0, 0, 0, 0.15);\n",
              "      filter: drop-shadow(0px 1px 2px rgba(0, 0, 0, 0.3));\n",
              "      fill: #FFFFFF;\n",
              "    }\n",
              "  </style>\n",
              "\n",
              "      <script>\n",
              "        const buttonEl =\n",
              "          document.querySelector('#df-dff343c9-ae0b-4654-8b39-f2f8049b3e1a button.colab-df-convert');\n",
              "        buttonEl.style.display =\n",
              "          google.colab.kernel.accessAllowed ? 'block' : 'none';\n",
              "\n",
              "        async function convertToInteractive(key) {\n",
              "          const element = document.querySelector('#df-dff343c9-ae0b-4654-8b39-f2f8049b3e1a');\n",
              "          const dataTable =\n",
              "            await google.colab.kernel.invokeFunction('convertToInteractive',\n",
              "                                                     [key], {});\n",
              "          if (!dataTable) return;\n",
              "\n",
              "          const docLinkHtml = 'Like what you see? Visit the ' +\n",
              "            '<a target=\"_blank\" href=https://colab.research.google.com/notebooks/data_table.ipynb>data table notebook</a>'\n",
              "            + ' to learn more about interactive tables.';\n",
              "          element.innerHTML = '';\n",
              "          dataTable['output_type'] = 'display_data';\n",
              "          await google.colab.output.renderOutput(dataTable, element);\n",
              "          const docLink = document.createElement('div');\n",
              "          docLink.innerHTML = docLinkHtml;\n",
              "          element.appendChild(docLink);\n",
              "        }\n",
              "      </script>\n",
              "    </div>\n",
              "  </div>\n",
              "  "
            ]
          },
          "metadata": {},
          "execution_count": 4
        }
      ]
    },
    {
      "cell_type": "code",
      "source": [
        "data = yf.download(['INFY.NS'], period = '1mo')\n",
        "data"
      ],
      "metadata": {
        "colab": {
          "base_uri": "https://localhost:8080/",
          "height": 788
        },
        "id": "1w9YQ-z-a7BD",
        "outputId": "4a133158-b99f-4761-9630-28e1dbfe797e"
      },
      "execution_count": 5,
      "outputs": [
        {
          "output_type": "stream",
          "name": "stdout",
          "text": [
            "\r[*********************100%***********************]  1 of 1 completed\n"
          ]
        },
        {
          "output_type": "execute_result",
          "data": {
            "text/plain": [
              "                                  Open         High          Low        Close  \\\n",
              "Date                                                                            \n",
              "2022-12-19 00:00:00+05:30  1507.949951  1516.900024  1495.050049  1507.349976   \n",
              "2022-12-20 00:00:00+05:30  1501.000000  1516.000000  1482.449951  1507.300049   \n",
              "2022-12-21 00:00:00+05:30  1515.000000  1521.000000  1502.349976  1509.550049   \n",
              "2022-12-22 00:00:00+05:30  1521.500000  1529.949951  1511.750000  1522.050049   \n",
              "2022-12-23 00:00:00+05:30  1508.699951  1509.900024  1493.000000  1497.099976   \n",
              "2022-12-26 00:00:00+05:30  1500.500000  1509.900024  1496.349976  1502.400024   \n",
              "2022-12-27 00:00:00+05:30  1509.949951  1521.449951  1497.500000  1514.849976   \n",
              "2022-12-28 00:00:00+05:30  1505.099976  1524.949951  1498.500000  1510.150024   \n",
              "2022-12-29 00:00:00+05:30  1504.000000  1521.300049  1501.000000  1517.550049   \n",
              "2022-12-30 00:00:00+05:30  1528.000000  1530.400024  1504.050049  1508.199951   \n",
              "2023-01-02 00:00:00+05:30  1514.000000  1526.500000  1504.050049  1524.000000   \n",
              "2023-01-03 00:00:00+05:30  1519.849976  1532.650024  1515.099976  1522.550049   \n",
              "2023-01-04 00:00:00+05:30  1521.000000  1521.000000  1491.099976  1494.800049   \n",
              "2023-01-05 00:00:00+05:30  1505.900024  1505.900024  1469.250000  1475.199951   \n",
              "2023-01-06 00:00:00+05:30  1470.000000  1475.000000  1446.500000  1448.500000   \n",
              "2023-01-09 00:00:00+05:30  1448.199951  1489.349976  1448.199951  1484.449951   \n",
              "2023-01-10 00:00:00+05:30  1482.000000  1483.900024  1454.050049  1469.750000   \n",
              "2023-01-11 00:00:00+05:30  1470.000000  1494.000000  1464.000000  1471.250000   \n",
              "2023-01-12 00:00:00+05:30  1481.949951  1485.000000  1455.000000  1480.599976   \n",
              "2023-01-13 00:00:00+05:30  1483.500000  1519.400024  1468.000000  1503.650024   \n",
              "2023-01-16 00:00:00+05:30  1510.000000  1528.000000  1502.300049  1525.500000   \n",
              "2023-01-17 00:00:00+05:30  1527.000000  1542.199951  1524.000000  1539.500000   \n",
              "\n",
              "                             Adj Close    Volume  \n",
              "Date                                              \n",
              "2022-12-19 00:00:00+05:30  1507.349976   6222740  \n",
              "2022-12-20 00:00:00+05:30  1507.300049   7396259  \n",
              "2022-12-21 00:00:00+05:30  1509.550049   6236361  \n",
              "2022-12-22 00:00:00+05:30  1522.050049   6302640  \n",
              "2022-12-23 00:00:00+05:30  1497.099976   6283822  \n",
              "2022-12-26 00:00:00+05:30  1502.400024   4115459  \n",
              "2022-12-27 00:00:00+05:30  1514.849976   4860076  \n",
              "2022-12-28 00:00:00+05:30  1510.150024   5029860  \n",
              "2022-12-29 00:00:00+05:30  1517.550049   4624745  \n",
              "2022-12-30 00:00:00+05:30  1508.199951   5060544  \n",
              "2023-01-02 00:00:00+05:30  1524.000000   3801140  \n",
              "2023-01-03 00:00:00+05:30  1522.550049   4551130  \n",
              "2023-01-04 00:00:00+05:30  1494.800049   7059590  \n",
              "2023-01-05 00:00:00+05:30  1475.199951   9868404  \n",
              "2023-01-06 00:00:00+05:30  1448.500000   6443714  \n",
              "2023-01-09 00:00:00+05:30  1484.449951  11498717  \n",
              "2023-01-10 00:00:00+05:30  1469.750000   7158624  \n",
              "2023-01-11 00:00:00+05:30  1471.250000   6173092  \n",
              "2023-01-12 00:00:00+05:30  1480.599976   6591385  \n",
              "2023-01-13 00:00:00+05:30  1503.650024  11610426  \n",
              "2023-01-16 00:00:00+05:30  1525.500000   6073063  \n",
              "2023-01-17 00:00:00+05:30  1539.500000   5922216  "
            ],
            "text/html": [
              "\n",
              "  <div id=\"df-515d6c2e-ba50-4d79-accb-8ccf0feafd8b\">\n",
              "    <div class=\"colab-df-container\">\n",
              "      <div>\n",
              "<style scoped>\n",
              "    .dataframe tbody tr th:only-of-type {\n",
              "        vertical-align: middle;\n",
              "    }\n",
              "\n",
              "    .dataframe tbody tr th {\n",
              "        vertical-align: top;\n",
              "    }\n",
              "\n",
              "    .dataframe thead th {\n",
              "        text-align: right;\n",
              "    }\n",
              "</style>\n",
              "<table border=\"1\" class=\"dataframe\">\n",
              "  <thead>\n",
              "    <tr style=\"text-align: right;\">\n",
              "      <th></th>\n",
              "      <th>Open</th>\n",
              "      <th>High</th>\n",
              "      <th>Low</th>\n",
              "      <th>Close</th>\n",
              "      <th>Adj Close</th>\n",
              "      <th>Volume</th>\n",
              "    </tr>\n",
              "    <tr>\n",
              "      <th>Date</th>\n",
              "      <th></th>\n",
              "      <th></th>\n",
              "      <th></th>\n",
              "      <th></th>\n",
              "      <th></th>\n",
              "      <th></th>\n",
              "    </tr>\n",
              "  </thead>\n",
              "  <tbody>\n",
              "    <tr>\n",
              "      <th>2022-12-19 00:00:00+05:30</th>\n",
              "      <td>1507.949951</td>\n",
              "      <td>1516.900024</td>\n",
              "      <td>1495.050049</td>\n",
              "      <td>1507.349976</td>\n",
              "      <td>1507.349976</td>\n",
              "      <td>6222740</td>\n",
              "    </tr>\n",
              "    <tr>\n",
              "      <th>2022-12-20 00:00:00+05:30</th>\n",
              "      <td>1501.000000</td>\n",
              "      <td>1516.000000</td>\n",
              "      <td>1482.449951</td>\n",
              "      <td>1507.300049</td>\n",
              "      <td>1507.300049</td>\n",
              "      <td>7396259</td>\n",
              "    </tr>\n",
              "    <tr>\n",
              "      <th>2022-12-21 00:00:00+05:30</th>\n",
              "      <td>1515.000000</td>\n",
              "      <td>1521.000000</td>\n",
              "      <td>1502.349976</td>\n",
              "      <td>1509.550049</td>\n",
              "      <td>1509.550049</td>\n",
              "      <td>6236361</td>\n",
              "    </tr>\n",
              "    <tr>\n",
              "      <th>2022-12-22 00:00:00+05:30</th>\n",
              "      <td>1521.500000</td>\n",
              "      <td>1529.949951</td>\n",
              "      <td>1511.750000</td>\n",
              "      <td>1522.050049</td>\n",
              "      <td>1522.050049</td>\n",
              "      <td>6302640</td>\n",
              "    </tr>\n",
              "    <tr>\n",
              "      <th>2022-12-23 00:00:00+05:30</th>\n",
              "      <td>1508.699951</td>\n",
              "      <td>1509.900024</td>\n",
              "      <td>1493.000000</td>\n",
              "      <td>1497.099976</td>\n",
              "      <td>1497.099976</td>\n",
              "      <td>6283822</td>\n",
              "    </tr>\n",
              "    <tr>\n",
              "      <th>2022-12-26 00:00:00+05:30</th>\n",
              "      <td>1500.500000</td>\n",
              "      <td>1509.900024</td>\n",
              "      <td>1496.349976</td>\n",
              "      <td>1502.400024</td>\n",
              "      <td>1502.400024</td>\n",
              "      <td>4115459</td>\n",
              "    </tr>\n",
              "    <tr>\n",
              "      <th>2022-12-27 00:00:00+05:30</th>\n",
              "      <td>1509.949951</td>\n",
              "      <td>1521.449951</td>\n",
              "      <td>1497.500000</td>\n",
              "      <td>1514.849976</td>\n",
              "      <td>1514.849976</td>\n",
              "      <td>4860076</td>\n",
              "    </tr>\n",
              "    <tr>\n",
              "      <th>2022-12-28 00:00:00+05:30</th>\n",
              "      <td>1505.099976</td>\n",
              "      <td>1524.949951</td>\n",
              "      <td>1498.500000</td>\n",
              "      <td>1510.150024</td>\n",
              "      <td>1510.150024</td>\n",
              "      <td>5029860</td>\n",
              "    </tr>\n",
              "    <tr>\n",
              "      <th>2022-12-29 00:00:00+05:30</th>\n",
              "      <td>1504.000000</td>\n",
              "      <td>1521.300049</td>\n",
              "      <td>1501.000000</td>\n",
              "      <td>1517.550049</td>\n",
              "      <td>1517.550049</td>\n",
              "      <td>4624745</td>\n",
              "    </tr>\n",
              "    <tr>\n",
              "      <th>2022-12-30 00:00:00+05:30</th>\n",
              "      <td>1528.000000</td>\n",
              "      <td>1530.400024</td>\n",
              "      <td>1504.050049</td>\n",
              "      <td>1508.199951</td>\n",
              "      <td>1508.199951</td>\n",
              "      <td>5060544</td>\n",
              "    </tr>\n",
              "    <tr>\n",
              "      <th>2023-01-02 00:00:00+05:30</th>\n",
              "      <td>1514.000000</td>\n",
              "      <td>1526.500000</td>\n",
              "      <td>1504.050049</td>\n",
              "      <td>1524.000000</td>\n",
              "      <td>1524.000000</td>\n",
              "      <td>3801140</td>\n",
              "    </tr>\n",
              "    <tr>\n",
              "      <th>2023-01-03 00:00:00+05:30</th>\n",
              "      <td>1519.849976</td>\n",
              "      <td>1532.650024</td>\n",
              "      <td>1515.099976</td>\n",
              "      <td>1522.550049</td>\n",
              "      <td>1522.550049</td>\n",
              "      <td>4551130</td>\n",
              "    </tr>\n",
              "    <tr>\n",
              "      <th>2023-01-04 00:00:00+05:30</th>\n",
              "      <td>1521.000000</td>\n",
              "      <td>1521.000000</td>\n",
              "      <td>1491.099976</td>\n",
              "      <td>1494.800049</td>\n",
              "      <td>1494.800049</td>\n",
              "      <td>7059590</td>\n",
              "    </tr>\n",
              "    <tr>\n",
              "      <th>2023-01-05 00:00:00+05:30</th>\n",
              "      <td>1505.900024</td>\n",
              "      <td>1505.900024</td>\n",
              "      <td>1469.250000</td>\n",
              "      <td>1475.199951</td>\n",
              "      <td>1475.199951</td>\n",
              "      <td>9868404</td>\n",
              "    </tr>\n",
              "    <tr>\n",
              "      <th>2023-01-06 00:00:00+05:30</th>\n",
              "      <td>1470.000000</td>\n",
              "      <td>1475.000000</td>\n",
              "      <td>1446.500000</td>\n",
              "      <td>1448.500000</td>\n",
              "      <td>1448.500000</td>\n",
              "      <td>6443714</td>\n",
              "    </tr>\n",
              "    <tr>\n",
              "      <th>2023-01-09 00:00:00+05:30</th>\n",
              "      <td>1448.199951</td>\n",
              "      <td>1489.349976</td>\n",
              "      <td>1448.199951</td>\n",
              "      <td>1484.449951</td>\n",
              "      <td>1484.449951</td>\n",
              "      <td>11498717</td>\n",
              "    </tr>\n",
              "    <tr>\n",
              "      <th>2023-01-10 00:00:00+05:30</th>\n",
              "      <td>1482.000000</td>\n",
              "      <td>1483.900024</td>\n",
              "      <td>1454.050049</td>\n",
              "      <td>1469.750000</td>\n",
              "      <td>1469.750000</td>\n",
              "      <td>7158624</td>\n",
              "    </tr>\n",
              "    <tr>\n",
              "      <th>2023-01-11 00:00:00+05:30</th>\n",
              "      <td>1470.000000</td>\n",
              "      <td>1494.000000</td>\n",
              "      <td>1464.000000</td>\n",
              "      <td>1471.250000</td>\n",
              "      <td>1471.250000</td>\n",
              "      <td>6173092</td>\n",
              "    </tr>\n",
              "    <tr>\n",
              "      <th>2023-01-12 00:00:00+05:30</th>\n",
              "      <td>1481.949951</td>\n",
              "      <td>1485.000000</td>\n",
              "      <td>1455.000000</td>\n",
              "      <td>1480.599976</td>\n",
              "      <td>1480.599976</td>\n",
              "      <td>6591385</td>\n",
              "    </tr>\n",
              "    <tr>\n",
              "      <th>2023-01-13 00:00:00+05:30</th>\n",
              "      <td>1483.500000</td>\n",
              "      <td>1519.400024</td>\n",
              "      <td>1468.000000</td>\n",
              "      <td>1503.650024</td>\n",
              "      <td>1503.650024</td>\n",
              "      <td>11610426</td>\n",
              "    </tr>\n",
              "    <tr>\n",
              "      <th>2023-01-16 00:00:00+05:30</th>\n",
              "      <td>1510.000000</td>\n",
              "      <td>1528.000000</td>\n",
              "      <td>1502.300049</td>\n",
              "      <td>1525.500000</td>\n",
              "      <td>1525.500000</td>\n",
              "      <td>6073063</td>\n",
              "    </tr>\n",
              "    <tr>\n",
              "      <th>2023-01-17 00:00:00+05:30</th>\n",
              "      <td>1527.000000</td>\n",
              "      <td>1542.199951</td>\n",
              "      <td>1524.000000</td>\n",
              "      <td>1539.500000</td>\n",
              "      <td>1539.500000</td>\n",
              "      <td>5922216</td>\n",
              "    </tr>\n",
              "  </tbody>\n",
              "</table>\n",
              "</div>\n",
              "      <button class=\"colab-df-convert\" onclick=\"convertToInteractive('df-515d6c2e-ba50-4d79-accb-8ccf0feafd8b')\"\n",
              "              title=\"Convert this dataframe to an interactive table.\"\n",
              "              style=\"display:none;\">\n",
              "        \n",
              "  <svg xmlns=\"http://www.w3.org/2000/svg\" height=\"24px\"viewBox=\"0 0 24 24\"\n",
              "       width=\"24px\">\n",
              "    <path d=\"M0 0h24v24H0V0z\" fill=\"none\"/>\n",
              "    <path d=\"M18.56 5.44l.94 2.06.94-2.06 2.06-.94-2.06-.94-.94-2.06-.94 2.06-2.06.94zm-11 1L8.5 8.5l.94-2.06 2.06-.94-2.06-.94L8.5 2.5l-.94 2.06-2.06.94zm10 10l.94 2.06.94-2.06 2.06-.94-2.06-.94-.94-2.06-.94 2.06-2.06.94z\"/><path d=\"M17.41 7.96l-1.37-1.37c-.4-.4-.92-.59-1.43-.59-.52 0-1.04.2-1.43.59L10.3 9.45l-7.72 7.72c-.78.78-.78 2.05 0 2.83L4 21.41c.39.39.9.59 1.41.59.51 0 1.02-.2 1.41-.59l7.78-7.78 2.81-2.81c.8-.78.8-2.07 0-2.86zM5.41 20L4 18.59l7.72-7.72 1.47 1.35L5.41 20z\"/>\n",
              "  </svg>\n",
              "      </button>\n",
              "      \n",
              "  <style>\n",
              "    .colab-df-container {\n",
              "      display:flex;\n",
              "      flex-wrap:wrap;\n",
              "      gap: 12px;\n",
              "    }\n",
              "\n",
              "    .colab-df-convert {\n",
              "      background-color: #E8F0FE;\n",
              "      border: none;\n",
              "      border-radius: 50%;\n",
              "      cursor: pointer;\n",
              "      display: none;\n",
              "      fill: #1967D2;\n",
              "      height: 32px;\n",
              "      padding: 0 0 0 0;\n",
              "      width: 32px;\n",
              "    }\n",
              "\n",
              "    .colab-df-convert:hover {\n",
              "      background-color: #E2EBFA;\n",
              "      box-shadow: 0px 1px 2px rgba(60, 64, 67, 0.3), 0px 1px 3px 1px rgba(60, 64, 67, 0.15);\n",
              "      fill: #174EA6;\n",
              "    }\n",
              "\n",
              "    [theme=dark] .colab-df-convert {\n",
              "      background-color: #3B4455;\n",
              "      fill: #D2E3FC;\n",
              "    }\n",
              "\n",
              "    [theme=dark] .colab-df-convert:hover {\n",
              "      background-color: #434B5C;\n",
              "      box-shadow: 0px 1px 3px 1px rgba(0, 0, 0, 0.15);\n",
              "      filter: drop-shadow(0px 1px 2px rgba(0, 0, 0, 0.3));\n",
              "      fill: #FFFFFF;\n",
              "    }\n",
              "  </style>\n",
              "\n",
              "      <script>\n",
              "        const buttonEl =\n",
              "          document.querySelector('#df-515d6c2e-ba50-4d79-accb-8ccf0feafd8b button.colab-df-convert');\n",
              "        buttonEl.style.display =\n",
              "          google.colab.kernel.accessAllowed ? 'block' : 'none';\n",
              "\n",
              "        async function convertToInteractive(key) {\n",
              "          const element = document.querySelector('#df-515d6c2e-ba50-4d79-accb-8ccf0feafd8b');\n",
              "          const dataTable =\n",
              "            await google.colab.kernel.invokeFunction('convertToInteractive',\n",
              "                                                     [key], {});\n",
              "          if (!dataTable) return;\n",
              "\n",
              "          const docLinkHtml = 'Like what you see? Visit the ' +\n",
              "            '<a target=\"_blank\" href=https://colab.research.google.com/notebooks/data_table.ipynb>data table notebook</a>'\n",
              "            + ' to learn more about interactive tables.';\n",
              "          element.innerHTML = '';\n",
              "          dataTable['output_type'] = 'display_data';\n",
              "          await google.colab.output.renderOutput(dataTable, element);\n",
              "          const docLink = document.createElement('div');\n",
              "          docLink.innerHTML = docLinkHtml;\n",
              "          element.appendChild(docLink);\n",
              "        }\n",
              "      </script>\n",
              "    </div>\n",
              "  </div>\n",
              "  "
            ]
          },
          "metadata": {},
          "execution_count": 5
        }
      ]
    },
    {
      "cell_type": "code",
      "source": [
        "price = data['Adj Close']\n",
        "price"
      ],
      "metadata": {
        "colab": {
          "base_uri": "https://localhost:8080/"
        },
        "id": "yxmHt_TFcup5",
        "outputId": "ee36fa99-0cc3-420a-bad5-c2875c017876"
      },
      "execution_count": 6,
      "outputs": [
        {
          "output_type": "execute_result",
          "data": {
            "text/plain": [
              "Date\n",
              "2022-12-19 00:00:00+05:30    1507.349976\n",
              "2022-12-20 00:00:00+05:30    1507.300049\n",
              "2022-12-21 00:00:00+05:30    1509.550049\n",
              "2022-12-22 00:00:00+05:30    1522.050049\n",
              "2022-12-23 00:00:00+05:30    1497.099976\n",
              "2022-12-26 00:00:00+05:30    1502.400024\n",
              "2022-12-27 00:00:00+05:30    1514.849976\n",
              "2022-12-28 00:00:00+05:30    1510.150024\n",
              "2022-12-29 00:00:00+05:30    1517.550049\n",
              "2022-12-30 00:00:00+05:30    1508.199951\n",
              "2023-01-02 00:00:00+05:30    1524.000000\n",
              "2023-01-03 00:00:00+05:30    1522.550049\n",
              "2023-01-04 00:00:00+05:30    1494.800049\n",
              "2023-01-05 00:00:00+05:30    1475.199951\n",
              "2023-01-06 00:00:00+05:30    1448.500000\n",
              "2023-01-09 00:00:00+05:30    1484.449951\n",
              "2023-01-10 00:00:00+05:30    1469.750000\n",
              "2023-01-11 00:00:00+05:30    1471.250000\n",
              "2023-01-12 00:00:00+05:30    1480.599976\n",
              "2023-01-13 00:00:00+05:30    1503.650024\n",
              "2023-01-16 00:00:00+05:30    1525.500000\n",
              "2023-01-17 00:00:00+05:30    1539.500000\n",
              "Name: Adj Close, dtype: float64"
            ]
          },
          "metadata": {},
          "execution_count": 6
        }
      ]
    },
    {
      "cell_type": "code",
      "source": [
        "returns = price.pct_change()\n",
        "returns"
      ],
      "metadata": {
        "colab": {
          "base_uri": "https://localhost:8080/"
        },
        "id": "YnRIkeSHdCq_",
        "outputId": "e0562056-d6ee-4b52-8202-d89a182a2386"
      },
      "execution_count": 7,
      "outputs": [
        {
          "output_type": "execute_result",
          "data": {
            "text/plain": [
              "Date\n",
              "2022-12-19 00:00:00+05:30         NaN\n",
              "2022-12-20 00:00:00+05:30   -0.000033\n",
              "2022-12-21 00:00:00+05:30    0.001493\n",
              "2022-12-22 00:00:00+05:30    0.008281\n",
              "2022-12-23 00:00:00+05:30   -0.016392\n",
              "2022-12-26 00:00:00+05:30    0.003540\n",
              "2022-12-27 00:00:00+05:30    0.008287\n",
              "2022-12-28 00:00:00+05:30   -0.003103\n",
              "2022-12-29 00:00:00+05:30    0.004900\n",
              "2022-12-30 00:00:00+05:30   -0.006161\n",
              "2023-01-02 00:00:00+05:30    0.010476\n",
              "2023-01-03 00:00:00+05:30   -0.000951\n",
              "2023-01-04 00:00:00+05:30   -0.018226\n",
              "2023-01-05 00:00:00+05:30   -0.013112\n",
              "2023-01-06 00:00:00+05:30   -0.018099\n",
              "2023-01-09 00:00:00+05:30    0.024819\n",
              "2023-01-10 00:00:00+05:30   -0.009903\n",
              "2023-01-11 00:00:00+05:30    0.001021\n",
              "2023-01-12 00:00:00+05:30    0.006355\n",
              "2023-01-13 00:00:00+05:30    0.015568\n",
              "2023-01-16 00:00:00+05:30    0.014531\n",
              "2023-01-17 00:00:00+05:30    0.009177\n",
              "Name: Adj Close, dtype: float64"
            ]
          },
          "metadata": {},
          "execution_count": 7
        }
      ]
    },
    {
      "cell_type": "code",
      "source": [
        "type(returns)"
      ],
      "metadata": {
        "colab": {
          "base_uri": "https://localhost:8080/"
        },
        "id": "GhpXAOY2dgeA",
        "outputId": "bd90a299-6934-4671-db1c-a88caba91145"
      },
      "execution_count": 8,
      "outputs": [
        {
          "output_type": "execute_result",
          "data": {
            "text/plain": [
              "pandas.core.series.Series"
            ]
          },
          "metadata": {},
          "execution_count": 8
        }
      ]
    },
    {
      "cell_type": "code",
      "source": [
        "returns.drop(labels = ['2022-12-19'], inplace = True)"
      ],
      "metadata": {
        "id": "9LfIyazaedWX"
      },
      "execution_count": 12,
      "outputs": []
    },
    {
      "cell_type": "code",
      "source": [
        "returns"
      ],
      "metadata": {
        "colab": {
          "base_uri": "https://localhost:8080/"
        },
        "id": "0kYR906Rf6GB",
        "outputId": "114b2b51-16a1-466c-c265-6ee721f3369b"
      },
      "execution_count": 13,
      "outputs": [
        {
          "output_type": "execute_result",
          "data": {
            "text/plain": [
              "Date\n",
              "2022-12-20 00:00:00+05:30   -0.000033\n",
              "2022-12-21 00:00:00+05:30    0.001493\n",
              "2022-12-22 00:00:00+05:30    0.008281\n",
              "2022-12-23 00:00:00+05:30   -0.016392\n",
              "2022-12-26 00:00:00+05:30    0.003540\n",
              "2022-12-27 00:00:00+05:30    0.008287\n",
              "2022-12-28 00:00:00+05:30   -0.003103\n",
              "2022-12-29 00:00:00+05:30    0.004900\n",
              "2022-12-30 00:00:00+05:30   -0.006161\n",
              "2023-01-02 00:00:00+05:30    0.010476\n",
              "2023-01-03 00:00:00+05:30   -0.000951\n",
              "2023-01-04 00:00:00+05:30   -0.018226\n",
              "2023-01-05 00:00:00+05:30   -0.013112\n",
              "2023-01-06 00:00:00+05:30   -0.018099\n",
              "2023-01-09 00:00:00+05:30    0.024819\n",
              "2023-01-10 00:00:00+05:30   -0.009903\n",
              "2023-01-11 00:00:00+05:30    0.001021\n",
              "2023-01-12 00:00:00+05:30    0.006355\n",
              "2023-01-13 00:00:00+05:30    0.015568\n",
              "2023-01-16 00:00:00+05:30    0.014531\n",
              "2023-01-17 00:00:00+05:30    0.009177\n",
              "Name: Adj Close, dtype: float64"
            ]
          },
          "metadata": {},
          "execution_count": 13
        }
      ]
    },
    {
      "cell_type": "code",
      "source": [
        "import matplotlib.pyplot as plt\n",
        "import seaborn as sns"
      ],
      "metadata": {
        "id": "FbdX9DTOf7J8"
      },
      "execution_count": 14,
      "outputs": []
    },
    {
      "cell_type": "code",
      "source": [
        "sns.displot(returns, kde = True)\n",
        "plt.show()"
      ],
      "metadata": {
        "colab": {
          "base_uri": "https://localhost:8080/",
          "height": 369
        },
        "id": "1sISxUKWhQb4",
        "outputId": "7c6db058-9d67-4fd3-a3a4-bf6d83aa2fbd"
      },
      "execution_count": 15,
      "outputs": [
        {
          "output_type": "display_data",
          "data": {
            "text/plain": [
              "<Figure size 360x360 with 1 Axes>"
            ],
            "image/png": "[encoded data removed]"
          },
          "metadata": {
            "needs_background": "light"
          }
        }
      ]
    },
    {
      "cell_type": "code",
      "source": [
        "from scipy.stats import skewnorm\n",
        "fit = skewnorm.fit(returns)\n",
        "sns.displot(returns, kde = True)\n",
        "plt.plot(np.arange(-0.05,0.05,0.001), skewnorm.pdf(np.arange(-0.05,0.05,0.001),fit[0],fit[1],fit[2]))\n",
        "plt.show"
      ],
      "metadata": {
        "colab": {
          "base_uri": "https://localhost:8080/",
          "height": 386
        },
        "id": "UOElcb4yiOiE",
        "outputId": "60aca334-8827-4d47-fd4c-255b49066b74"
      },
      "execution_count": 16,
      "outputs": [
        {
          "output_type": "execute_result",
          "data": {
            "text/plain": [
              "<function matplotlib.pyplot.show(*args, **kw)>"
            ]
          },
          "metadata": {},
          "execution_count": 16
        },
        {
          "output_type": "display_data",
          "data": {
            "text/plain": [
              "<Figure size 360x360 with 1 Axes>"
            ],
            "image/png": "[encoded data removed]"
          },
          "metadata": {
            "needs_background": "light"
          }
        }
      ]
    },
    {
      "cell_type": "markdown",
      "source": [
        "From the graph above, it is clear that the distribution is negatively skewed. Therefore, to account for skewness, we could take the values of the upper_bound and lower_bound accordingly for the monte carlo simulation."
      ],
      "metadata": {
        "id": "HdDtYYs2rNeg"
      }
    },
    {
      "cell_type": "code",
      "source": [
        "from scipy.stats import norm\n",
        "lower_bound = norm.ppf(0.25)\n",
        "upper_bound = norm.ppf(0.70)\n",
        "mean = returns.mean()\n",
        "std_dev = returns.std()\n",
        "np.random.seed(1)\n",
        "n = np.random.normal(size = (23,10))\n",
        "rows = n.shape[0]\n",
        "col = n.shape[1]\n",
        "for i in  range(rows):\n",
        "  for j in range(col):\n",
        "    if n[i][j] > upper_bound:\n",
        "      n[i][j] = upper_bound\n",
        "    elif n[i][j] < lower_bound:\n",
        "      n[i][j] = lower_bound\n",
        "    n[i][j] = std_dev*n[i][j] + mean"
      ],
      "metadata": {
        "id": "a8R_pVi7lHnn"
      },
      "execution_count": 17,
      "outputs": []
    },
    {
      "cell_type": "code",
      "source": [
        "new_price = []\n",
        "prev_price = price.at['2023-01-17']\n",
        "prev_price"
      ],
      "metadata": {
        "id": "UlcG5ELszWVl",
        "colab": {
          "base_uri": "https://localhost:8080/"
        },
        "outputId": "0ac6e88b-ccb4-4e66-966b-f71cb4536381"
      },
      "execution_count": 18,
      "outputs": [
        {
          "output_type": "execute_result",
          "data": {
            "text/plain": [
              "1539.5"
            ]
          },
          "metadata": {},
          "execution_count": 18
        }
      ]
    },
    {
      "cell_type": "code",
      "source": [
        "for i in range(rows):\n",
        "  a = []\n",
        "  for j in range(col):\n",
        "    a.append(prev_price*(1+n[i][j]))\n",
        "  prev_price = prev_price*(1+n[i][j])\n",
        "  new_price.append(a)"
      ],
      "metadata": {
        "id": "GnhGiSHhz-GM"
      },
      "execution_count": 19,
      "outputs": []
    },
    {
      "cell_type": "code",
      "source": [
        "plt.plot(new_price)\n"
      ],
      "metadata": {
        "colab": {
          "base_uri": "https://localhost:8080/",
          "height": 439
        },
        "id": "8kFLy8zE4SEm",
        "outputId": "3f98c133-f9e9-412f-cc49-d381c558ed87"
      },
      "execution_count": 20,
      "outputs": [
        {
          "output_type": "execute_result",
          "data": {
            "text/plain": [
              "[<matplotlib.lines.Line2D at 0x7fbb3e1d6be0>,\n",
              " <matplotlib.lines.Line2D at 0x7fbb3e1d6040>,\n",
              " <matplotlib.lines.Line2D at 0x7fbb3e1d6730>,\n",
              " <matplotlib.lines.Line2D at 0x7fbb3e1d6cd0>,\n",
              " <matplotlib.lines.Line2D at 0x7fbb3e1d6610>,\n",
              " <matplotlib.lines.Line2D at 0x7fbb3e1d6d90>,\n",
              " <matplotlib.lines.Line2D at 0x7fbb3e1d6580>,\n",
              " <matplotlib.lines.Line2D at 0x7fbb3dd57940>,\n",
              " <matplotlib.lines.Line2D at 0x7fbb3dd57af0>,\n",
              " <matplotlib.lines.Line2D at 0x7fbb3dd57700>]"
            ]
          },
          "metadata": {},
          "execution_count": 20
        },
        {
          "output_type": "display_data",
          "data": {
            "text/plain": [
              "<Figure size 432x288 with 1 Axes>"
            ],
            "image/png": "[encoded data removed]"
          },
          "metadata": {
            "needs_background": "light"
          }
        }
      ]
    },
    {
      "cell_type": "code",
      "source": [],
      "metadata": {
        "id": "0bnO2oVw6SkG"
      },
      "execution_count": null,
      "outputs": []
    }
  ]
}